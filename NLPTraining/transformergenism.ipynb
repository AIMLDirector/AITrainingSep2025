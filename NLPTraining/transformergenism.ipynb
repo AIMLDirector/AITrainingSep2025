{
 "cells": [
  {
   "cell_type": "code",
   "execution_count": 1,
   "id": "add0a41e-317f-46e3-ac41-31e727d2e575",
   "metadata": {},
   "outputs": [
    {
     "name": "stdout",
     "output_type": "stream",
     "text": [
      "Package                      Version\n",
      "---------------------------- -----------\n",
      "absl-py                      2.2.2\n",
      "annotated-types              0.7.0\n",
      "appnope                      0.1.4\n",
      "asttokens                    3.0.0\n",
      "astunparse                   1.6.3\n",
      "blis                         1.3.0\n",
      "catalogue                    2.0.10\n",
      "certifi                      2025.4.26\n",
      "charset-normalizer           3.4.2\n",
      "click                        8.2.0\n",
      "cloudpathlib                 0.21.0\n",
      "comm                         0.2.2\n",
      "confection                   0.1.5\n",
      "cymem                        2.0.11\n",
      "debugpy                      1.8.14\n",
      "decorator                    5.2.1\n",
      "distlib                      0.3.9\n",
      "en_core_web_sm               3.8.0\n",
      "executing                    2.2.0\n",
      "filelock                     3.18.0\n",
      "flatbuffers                  25.2.10\n",
      "fsspec                       2025.3.2\n",
      "gast                         0.6.0\n",
      "gensim                       4.3.3\n",
      "google-pasta                 0.2.0\n",
      "grpcio                       1.71.0\n",
      "h5py                         3.13.0\n",
      "huggingface-hub              0.31.4\n",
      "idna                         3.10\n",
      "ipykernel                    6.29.5\n",
      "ipython                      9.2.0\n",
      "ipython_pygments_lexers      1.1.1\n",
      "jedi                         0.19.2\n",
      "Jinja2                       3.1.6\n",
      "joblib                       1.5.0\n",
      "jupyter_client               8.6.3\n",
      "jupyter_core                 5.7.2\n",
      "keras                        3.10.0\n",
      "langcodes                    3.5.0\n",
      "language_data                1.3.0\n",
      "libclang                     18.1.1\n",
      "marisa-trie                  1.2.1\n",
      "Markdown                     3.8\n",
      "markdown-it-py               3.0.0\n",
      "MarkupSafe                   3.0.2\n",
      "matplotlib-inline            0.1.7\n",
      "mdurl                        0.1.2\n",
      "ml_dtypes                    0.5.1\n",
      "mpmath                       1.3.0\n",
      "murmurhash                   1.0.12\n",
      "namex                        0.0.9\n",
      "nest-asyncio                 1.6.0\n",
      "networkx                     3.4.2\n",
      "nltk                         3.9.1\n",
      "numpy                        1.26.4\n",
      "opt_einsum                   3.4.0\n",
      "optree                       0.15.0\n",
      "packaging                    25.0\n",
      "parso                        0.8.4\n",
      "pexpect                      4.9.0\n",
      "pip                          23.2.1\n",
      "platformdirs                 4.3.8\n",
      "preshed                      3.0.9\n",
      "prompt_toolkit               3.0.51\n",
      "protobuf                     5.29.4\n",
      "psutil                       7.0.0\n",
      "ptyprocess                   0.7.0\n",
      "pure_eval                    0.2.3\n",
      "pydantic                     2.11.4\n",
      "pydantic_core                2.33.2\n",
      "Pygments                     2.19.1\n",
      "python-dateutil              2.9.0.post0\n",
      "PyYAML                       6.0.2\n",
      "pyzmq                        26.4.0\n",
      "regex                        2024.11.6\n",
      "requests                     2.32.3\n",
      "rich                         14.0.0\n",
      "safetensors                  0.5.3\n",
      "scipy                        1.13.1\n",
      "setuptools                   65.5.0\n",
      "shellingham                  1.5.4\n",
      "six                          1.17.0\n",
      "smart-open                   7.1.0\n",
      "spacy                        3.8.5\n",
      "spacy-legacy                 3.0.12\n",
      "spacy-loggers                1.0.5\n",
      "srsly                        2.5.1\n",
      "stack-data                   0.6.3\n",
      "sympy                        1.14.0\n",
      "tensorboard                  2.19.0\n",
      "tensorboard-data-server      0.7.2\n",
      "tensorflow                   2.19.0\n",
      "tensorflow-io-gcs-filesystem 0.37.1\n",
      "termcolor                    3.1.0\n",
      "tf_keras                     2.19.0\n",
      "thinc                        8.3.6\n",
      "tokenizers                   0.21.1\n",
      "torch                        2.7.0\n",
      "tornado                      6.4.2\n",
      "tqdm                         4.67.1\n",
      "traitlets                    5.14.3\n",
      "transformers                 4.51.3\n",
      "typer                        0.15.3\n",
      "typing_extensions            4.13.2\n",
      "typing-inspection            0.4.0\n",
      "urllib3                      2.4.0\n",
      "virtualenv                   20.31.2\n",
      "wasabi                       1.1.3\n",
      "wcwidth                      0.2.13\n",
      "weasel                       0.4.1\n",
      "Werkzeug                     3.1.3\n",
      "wheel                        0.45.1\n",
      "wrapt                        1.17.2\n",
      "\n",
      "\u001b[1m[\u001b[0m\u001b[34;49mnotice\u001b[0m\u001b[1;39;49m]\u001b[0m\u001b[39;49m A new release of pip is available: \u001b[0m\u001b[31;49m23.2.1\u001b[0m\u001b[39;49m -> \u001b[0m\u001b[32;49m25.1.1\u001b[0m\n",
      "\u001b[1m[\u001b[0m\u001b[34;49mnotice\u001b[0m\u001b[1;39;49m]\u001b[0m\u001b[39;49m To update, run: \u001b[0m\u001b[32;49mpython -m pip install --upgrade pip\u001b[0m\n",
      "Note: you may need to restart the kernel to use updated packages.\n"
     ]
    }
   ],
   "source": [
    "pip list\n"
   ]
  },
  {
   "cell_type": "code",
   "execution_count": 2,
   "id": "048488e2-b5c6-4dd3-a49b-cb818165224a",
   "metadata": {},
   "outputs": [
    {
     "name": "stdout",
     "output_type": "stream",
     "text": [
      "[=================---------------------------------] 35.5% 23.4/66.0MB downloaded"
     ]
    },
    {
     "name": "stderr",
     "output_type": "stream",
     "text": [
      "IOPub message rate exceeded.\n",
      "The Jupyter server will temporarily stop sending output\n",
      "to the client in order to avoid crashing it.\n",
      "To change this limit, set the config variable\n",
      "`--ServerApp.iopub_msg_rate_limit`.\n",
      "\n",
      "Current values:\n",
      "ServerApp.iopub_msg_rate_limit=1000.0 (msgs/sec)\n",
      "ServerApp.rate_limit_window=3.0 (secs)\n",
      "\n"
     ]
    },
    {
     "name": "stdout",
     "output_type": "stream",
     "text": [
      "[==================================================] 100.0% 66.0/66.0MB downloaded\n"
     ]
    }
   ],
   "source": [
    "import gensim.downloader as api\n",
    "\n",
    "# Download embeddings (66MB, glove, trained on wikipedia, vector size: 50)\n",
    "# Other options include \"word2vec-google-news-300\"\n",
    "# More options at https://github.com/RaRe-Technologies/gensim-data\n",
    "model = api.load(\"glove-wiki-gigaword-50\")"
   ]
  },
  {
   "cell_type": "code",
   "execution_count": 3,
   "id": "813198c4-23f0-4b24-a973-508fcec2f846",
   "metadata": {},
   "outputs": [
    {
     "data": {
      "text/plain": [
       "[('king', 1.0000001192092896),\n",
       " ('prince', 0.8236179351806641),\n",
       " ('queen', 0.7839044332504272),\n",
       " ('ii', 0.7746230363845825),\n",
       " ('emperor', 0.7736247777938843),\n",
       " ('son', 0.766719400882721),\n",
       " ('uncle', 0.7627150416374207),\n",
       " ('kingdom', 0.7542160749435425),\n",
       " ('throne', 0.7539914846420288),\n",
       " ('brother', 0.7492412328720093),\n",
       " ('ruler', 0.7434254288673401)]"
      ]
     },
     "execution_count": 3,
     "metadata": {},
     "output_type": "execute_result"
    }
   ],
   "source": [
    "model.most_similar([model['king']], topn=11)"
   ]
  },
  {
   "cell_type": "code",
   "execution_count": 5,
   "id": "9ee7aae2-4c08-464f-a441-4e5d4dfec0e6",
   "metadata": {},
   "outputs": [
    {
     "name": "stdout",
     "output_type": "stream",
     "text": [
      "Collecting pandas\n",
      "  Obtaining dependency information for pandas from https://files.pythonhosted.org/packages/52/11/9eac327a38834f162b8250aab32a6781339c69afe7574368fffe46387edf/pandas-2.2.3-cp311-cp311-macosx_11_0_arm64.whl.metadata\n",
      "  Using cached pandas-2.2.3-cp311-cp311-macosx_11_0_arm64.whl.metadata (89 kB)\n",
      "Requirement already satisfied: numpy>=1.23.2 in /Users/premkumargontrand/nlp/nlpvenv/lib/python3.11/site-packages (from pandas) (1.26.4)\n",
      "Requirement already satisfied: python-dateutil>=2.8.2 in /Users/premkumargontrand/nlp/nlpvenv/lib/python3.11/site-packages (from pandas) (2.9.0.post0)\n",
      "Collecting pytz>=2020.1 (from pandas)\n",
      "  Obtaining dependency information for pytz>=2020.1 from https://files.pythonhosted.org/packages/81/c4/34e93fe5f5429d7570ec1fa436f1986fb1f00c3e0f43a589fe2bbcd22c3f/pytz-2025.2-py2.py3-none-any.whl.metadata\n",
      "  Using cached pytz-2025.2-py2.py3-none-any.whl.metadata (22 kB)\n",
      "Collecting tzdata>=2022.7 (from pandas)\n",
      "  Obtaining dependency information for tzdata>=2022.7 from https://files.pythonhosted.org/packages/5c/23/c7abc0ca0a1526a0774eca151daeb8de62ec457e77262b66b359c3c7679e/tzdata-2025.2-py2.py3-none-any.whl.metadata\n",
      "  Using cached tzdata-2025.2-py2.py3-none-any.whl.metadata (1.4 kB)\n",
      "Requirement already satisfied: six>=1.5 in /Users/premkumargontrand/nlp/nlpvenv/lib/python3.11/site-packages (from python-dateutil>=2.8.2->pandas) (1.17.0)\n",
      "Using cached pandas-2.2.3-cp311-cp311-macosx_11_0_arm64.whl (11.3 MB)\n",
      "Using cached pytz-2025.2-py2.py3-none-any.whl (509 kB)\n",
      "Using cached tzdata-2025.2-py2.py3-none-any.whl (347 kB)\n",
      "Installing collected packages: pytz, tzdata, pandas\n",
      "Successfully installed pandas-2.2.3 pytz-2025.2 tzdata-2025.2\n",
      "\n",
      "\u001b[1m[\u001b[0m\u001b[34;49mnotice\u001b[0m\u001b[1;39;49m]\u001b[0m\u001b[39;49m A new release of pip is available: \u001b[0m\u001b[31;49m23.2.1\u001b[0m\u001b[39;49m -> \u001b[0m\u001b[32;49m25.1.1\u001b[0m\n",
      "\u001b[1m[\u001b[0m\u001b[34;49mnotice\u001b[0m\u001b[1;39;49m]\u001b[0m\u001b[39;49m To update, run: \u001b[0m\u001b[32;49mpython -m pip install --upgrade pip\u001b[0m\n",
      "Note: you may need to restart the kernel to use updated packages.\n"
     ]
    }
   ],
   "source": [
    "pip install pandas\n"
   ]
  },
  {
   "cell_type": "code",
   "execution_count": 6,
   "id": "183e607b-a4e7-46c0-a872-32fe241a51a1",
   "metadata": {},
   "outputs": [],
   "source": [
    "import pandas as pd\n",
    "from urllib import request\n",
    "\n",
    "# Get the playlist dataset file\n",
    "data = request.urlopen('https://storage.googleapis.com/maps-premium/dataset/yes_complete/train.txt')\n",
    "\n",
    "# Parse the playlist dataset file. Skip the first two lines as\n",
    "# they only contain metadata\n",
    "lines = data.read().decode(\"utf-8\").split('\\n')[2:]\n",
    "\n",
    "# Remove playlists with only one song\n",
    "playlists = [s.rstrip().split() for s in lines if len(s.split()) > 1]\n",
    "\n",
    "# Load song metadata\n",
    "songs_file = request.urlopen('https://storage.googleapis.com/maps-premium/dataset/yes_complete/song_hash.txt')\n",
    "songs_file = songs_file.read().decode(\"utf-8\").split('\\n')\n",
    "songs = [s.rstrip().split('\\t') for s in songs_file]\n",
    "songs_df = pd.DataFrame(data=songs, columns = ['id', 'title', 'artist'])\n",
    "songs_df = songs_df.set_index('id')"
   ]
  },
  {
   "cell_type": "code",
   "execution_count": 17,
   "id": "7112ae21-aea5-4a5b-9aff-0c87350fe973",
   "metadata": {},
   "outputs": [
    {
     "name": "stdout",
     "output_type": "stream",
     "text": [
      "                                                 title             artist\n",
      "id                                                                       \n",
      "0                         Gucci Time (w\\/ Swizz Beatz)         Gucci Mane\n",
      "1    Aston Martin Music (w\\/ Drake & Chrisette Mich...          Rick Ross\n",
      "2                        Get Back Up (w\\/ Chris Brown)               T.I.\n",
      "3                   Hot Toddy (w\\/ Jay-Z & Ester Dean)              Usher\n",
      "4                                         Whip My Hair             Willow\n",
      "5                             Down On Me (w\\/ 50 Cent)            Jeremih\n",
      "6                                     Black And Yellow        Wiz Khalifa\n",
      "7                                    Blowing Me Kisses         Soulja Boy\n",
      "8                                          Lay It Down              Lloyd\n",
      "9                        Good For My Money (w\\/ Lloyd)          Baby Bash\n",
      "10                                            Shake It       Elephant Man\n",
      "11                                             My Cupp        Richie Loop\n",
      "12                                    Who's That Chick            Rihanna\n",
      "13                  Like A G6 (w\\/ The Cataracs & Dec)  Far East Movement\n",
      "14             DJ Got Us Fallin' In Love (w\\/ Pitbull)              Usher\n",
      "15                                        Hurt Me Soul        Lupe Fiasco\n",
      "16                 Put It In A Love Song (w\\/ Beyonce)        Alicia Keys\n",
      "17                     All I Wants Is You (w\\/ J Cole)             Miguel\n",
      "18                                      Champagne Life              Ne-Yo\n",
      "19                                      Find Your Love              Drake\n"
     ]
    }
   ],
   "source": [
    "print(songs_df[0:20])"
   ]
  },
  {
   "cell_type": "code",
   "execution_count": 7,
   "id": "ee54879e-35c5-4556-8fe7-d4b47410acc3",
   "metadata": {},
   "outputs": [],
   "source": [
    "from gensim.models import Word2Vec\n",
    "\n",
    "# Train our Word2Vec model\n",
    "model = Word2Vec(\n",
    "    playlists, vector_size=32, window=20, negative=50, min_count=1, workers=4\n",
    ")"
   ]
  },
  {
   "cell_type": "code",
   "execution_count": 8,
   "id": "48db0032-ff63-43fc-8223-b8aad1ab9551",
   "metadata": {},
   "outputs": [
    {
     "data": {
      "text/html": [
       "<div>\n",
       "<style scoped>\n",
       "    .dataframe tbody tr th:only-of-type {\n",
       "        vertical-align: middle;\n",
       "    }\n",
       "\n",
       "    .dataframe tbody tr th {\n",
       "        vertical-align: top;\n",
       "    }\n",
       "\n",
       "    .dataframe thead th {\n",
       "        text-align: right;\n",
       "    }\n",
       "</style>\n",
       "<table border=\"1\" class=\"dataframe\">\n",
       "  <thead>\n",
       "    <tr style=\"text-align: right;\">\n",
       "      <th></th>\n",
       "      <th>title</th>\n",
       "      <th>artist</th>\n",
       "    </tr>\n",
       "    <tr>\n",
       "      <th>id</th>\n",
       "      <th></th>\n",
       "      <th></th>\n",
       "    </tr>\n",
       "  </thead>\n",
       "  <tbody>\n",
       "    <tr>\n",
       "      <th>2849</th>\n",
       "      <td>Run To The Hills</td>\n",
       "      <td>Iron Maiden</td>\n",
       "    </tr>\n",
       "    <tr>\n",
       "      <th>3167</th>\n",
       "      <td>Unchained</td>\n",
       "      <td>Van Halen</td>\n",
       "    </tr>\n",
       "    <tr>\n",
       "      <th>5586</th>\n",
       "      <td>The Last In Line</td>\n",
       "      <td>Dio</td>\n",
       "    </tr>\n",
       "    <tr>\n",
       "      <th>5634</th>\n",
       "      <td>Mr. Brownstone</td>\n",
       "      <td>Guns N' Roses</td>\n",
       "    </tr>\n",
       "    <tr>\n",
       "      <th>6624</th>\n",
       "      <td>Everybody Wants Some!!!</td>\n",
       "      <td>Van Halen</td>\n",
       "    </tr>\n",
       "  </tbody>\n",
       "</table>\n",
       "</div>"
      ],
      "text/plain": [
       "                         title         artist\n",
       "id                                           \n",
       "2849          Run To The Hills    Iron Maiden\n",
       "3167                 Unchained      Van Halen\n",
       "5586          The Last In Line            Dio\n",
       "5634            Mr. Brownstone  Guns N' Roses\n",
       "6624   Everybody Wants Some!!!      Van Halen"
      ]
     },
     "execution_count": 8,
     "metadata": {},
     "output_type": "execute_result"
    }
   ],
   "source": [
    "import numpy as np\n",
    "\n",
    "def print_recommendations(song_id):\n",
    "    similar_songs = np.array(\n",
    "        model.wv.most_similar(positive=str(song_id),topn=5)\n",
    "    )[:,0]\n",
    "    return  songs_df.iloc[similar_songs]\n",
    "\n",
    "# Extract recommendations\n",
    "print_recommendations(2172)"
   ]
  },
  {
   "cell_type": "code",
   "execution_count": null,
   "id": "f13cffb2-78a8-46b2-934b-6d41dcfdb733",
   "metadata": {},
   "outputs": [],
   "source": []
  }
 ],
 "metadata": {
  "kernelspec": {
   "display_name": "nlpvenv",
   "language": "python",
   "name": "nlpvenv"
  },
  "language_info": {
   "codemirror_mode": {
    "name": "ipython",
    "version": 3
   },
   "file_extension": ".py",
   "mimetype": "text/x-python",
   "name": "python",
   "nbconvert_exporter": "python",
   "pygments_lexer": "ipython3",
   "version": "3.11.7"
  }
 },
 "nbformat": 4,
 "nbformat_minor": 5
}
