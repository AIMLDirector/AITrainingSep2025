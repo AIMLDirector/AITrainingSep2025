{
 "cells": [
  {
   "cell_type": "code",
   "execution_count": 3,
   "id": "ef3e2abd-f020-45cd-9910-b7e7eda6a5a6",
   "metadata": {},
   "outputs": [],
   "source": [
    "import gensim\n",
    "from gensim.models import Word2Vec, fasttext, basemodel\n",
    "from nltk.corpus import stopwords\n",
    "from nltk.tokenize import word_tokenize\n",
    "import re,string\n"
   ]
  },
  {
   "cell_type": "code",
   "execution_count": 4,
   "id": "5345dd3e-25ea-4682-9d9c-267d7a48edee",
   "metadata": {},
   "outputs": [],
   "source": [
    "sentences = [\n",
    "    \"The quick brown fox jumps over the lazy dog.\",\n",
    "    \"Artificial intelligence is transforming the world we live in.\",\n",
    "    \"Deep learning techniques have greatly improved image recognition.\",\n",
    "    \"Natural language processing allows computers to understand human language.\",\n",
    "    \"Data science combines statistics, computer science, and domain knowledge.\",\n",
    "    \"The weather is nice today, perfect for a walk in the park.\",\n",
    "    \"Cats are often seen as independent and curious creatures.\",\n",
    "    \"The stock market fluctuates based on various economic indicators.\",\n",
    "    \"Exploring new cuisines can be an exciting culinary adventure.\",\n",
    "    \"Machine learning algorithms can learn from data and make predictions.\",\n",
    "]"
   ]
  },
  {
   "cell_type": "code",
   "execution_count": 5,
   "id": "1c467c2f-91f5-494d-8177-6583cfc0484f",
   "metadata": {},
   "outputs": [
    {
     "name": "stdout",
     "output_type": "stream",
     "text": [
      "[['the', 'quick', 'brown', 'fox', 'jumps', 'over', 'the', 'lazy', 'dog'], ['artificial', 'intelligence', 'is', 'transforming', 'the', 'world', 'we', 'live', 'in'], ['deep', 'learning', 'techniques', 'have', 'greatly', 'improved', 'image', 'recognition'], ['natural', 'language', 'processing', 'allows', 'computers', 'to', 'understand', 'human', 'language'], ['data', 'science', 'combines', 'statistics', 'computer', 'science', 'and', 'domain', 'knowledge'], ['the', 'weather', 'is', 'nice', 'today', 'perfect', 'for', 'a', 'walk', 'in', 'the', 'park'], ['cats', 'are', 'often', 'seen', 'as', 'independent', 'and', 'curious', 'creatures'], ['the', 'stock', 'market', 'fluctuates', 'based', 'on', 'various', 'economic', 'indicators'], ['exploring', 'new', 'cuisines', 'can', 'be', 'an', 'exciting', 'culinary', 'adventure'], ['machine', 'learning', 'algorithms', 'can', 'learn', 'from', 'data', 'and', 'make', 'predictions']]\n"
     ]
    }
   ],
   "source": [
    "cleaned_sentences = []\n",
    "for sentence in sentences:\n",
    "    sentence = sentence.lower()\n",
    "    sentence = re.sub(r'[' + string.punctuation + ']', '', sentence)  # Remove punctuation\n",
    "    words = sentence.split()\n",
    "    cleaned_sentences.append(words)\n",
    "\n",
    "print(cleaned_sentences) "
   ]
  },
  {
   "cell_type": "code",
   "execution_count": 6,
   "id": "d6ea36e4-4e98-4f35-a039-5b0a7e8d9c4f",
   "metadata": {},
   "outputs": [],
   "source": [
    "# Initialize the Word2Vec model\n",
    "model = Word2Vec(sentences=cleaned_sentences, vector_size=100, window=5, min_count=1, workers=4, sg=1)\n",
    "\n",
    "# Train the model\n",
    "model.train(sentences, total_words=len(sentences), epochs=10)  # Adjust epochs according to your needs\n",
    "\n",
    "# Save the model\n",
    "model.save('word2vec_model.model')\n"
   ]
  },
  {
   "cell_type": "code",
   "execution_count": 7,
   "id": "76c2215f-15a6-422a-a98e-0fd9fea50e2b",
   "metadata": {},
   "outputs": [
    {
     "name": "stdout",
     "output_type": "stream",
     "text": [
      "Word2Vec<vocab=79, vector_size=100, alpha=0.025>\n"
     ]
    }
   ],
   "source": [
    "print(model)"
   ]
  },
  {
   "cell_type": "code",
   "execution_count": 10,
   "id": "10e84508-6d1f-4252-a5b0-3264424e0712",
   "metadata": {},
   "outputs": [
    {
     "name": "stdout",
     "output_type": "stream",
     "text": [
      "are: 0.2048470377922058\n",
      "quick: 0.178854301571846\n",
      "often: 0.16478683054447174\n",
      "over: 0.1647077351808548\n",
      "economic: 0.14939117431640625\n"
     ]
    }
   ],
   "source": [
    "# Get word vectors\n",
    "#print(model.wv['cats'])  # Example: Vector for 'cat'\n",
    "\n",
    "# Find similar words\n",
    "similar_words = model.wv.most_similar('learning', topn=5)\n",
    "#print(similar_words)\n",
    "for word, similarity in similar_words:\n",
    "    print(f\"{word}: {similarity}\")"
   ]
  },
  {
   "cell_type": "code",
   "execution_count": 11,
   "id": "1943562c-670f-4031-8299-45db8fd3d6f0",
   "metadata": {},
   "outputs": [],
   "source": [
    "from gensim.models import FastText\n",
    "from gensim.utils import simple_preprocess\n"
   ]
  },
  {
   "cell_type": "code",
   "execution_count": 12,
   "id": "f529aa6e-4598-4bb4-907a-4d9550bbdc30",
   "metadata": {},
   "outputs": [],
   "source": [
    "model_ft = FastText(\n",
    "    sentences=cleaned_sentences,\n",
    "    vector_size=100,  # Desired dimensionality of word vectors\n",
    "    window=5,         # Context window size\n",
    "    min_count=1,      # Ignore words with frequency lower than this\n",
    "    epochs=10,        # Number of training epochs\n",
    "    min_n=3,          # Minimum length of character n-grams\n",
    "    max_n=6           # Maximum length of character n-grams\n",
    ")"
   ]
  },
  {
   "cell_type": "code",
   "execution_count": 13,
   "id": "17c4e67b-54fa-4e8f-8dbc-68a6679f512e",
   "metadata": {},
   "outputs": [
    {
     "name": "stdout",
     "output_type": "stream",
     "text": [
      "Training complete!\n"
     ]
    }
   ],
   "source": [
    "print(\"Training complete!\")\n",
    "\n",
    "# You can save the trained model for later use\n",
    "model_ft.save(\"fasttext.model\")\n",
    "\n",
    "# Load a saved model\n",
    "# model_ft = FastText.load(\"fasttext.model\")"
   ]
  },
  {
   "cell_type": "code",
   "execution_count": 14,
   "id": "5a947788-a90e-4a24-b0d3-3a088d4a64eb",
   "metadata": {},
   "outputs": [
    {
     "name": "stdout",
     "output_type": "stream",
     "text": [
      "FastText<vocab=79, vector_size=100, alpha=0.025>\n"
     ]
    }
   ],
   "source": [
    "print(model_ft)"
   ]
  },
  {
   "cell_type": "code",
   "execution_count": 15,
   "id": "79914d34-08fd-4195-8585-88c187655e7e",
   "metadata": {},
   "outputs": [
    {
     "name": "stdout",
     "output_type": "stream",
     "text": [
      "[ 7.40063959e-04 -2.22702743e-03  1.66845959e-04 -1.64000870e-04\n",
      "  1.65959343e-03  3.54314980e-04 -3.48753319e-03  1.06613315e-03\n",
      "  7.31494336e-04  1.77278742e-03  3.04223904e-05  3.72497103e-04\n",
      "  1.14309916e-03  1.37822842e-03  9.23539745e-04  1.01227791e-03\n",
      " -1.92596810e-03  1.67554687e-03  1.15786889e-03 -6.70962036e-04\n",
      " -6.20148086e-04  2.39434652e-03 -1.82943651e-03  8.85732297e-04\n",
      "  7.80585571e-04 -2.92350003e-03 -1.45963405e-03 -2.91437586e-03\n",
      "  4.74989152e-04  2.66354182e-03  1.97057589e-03  7.36803340e-04\n",
      "  8.06871103e-04  1.70344440e-03  2.50757835e-03 -4.18425491e-03\n",
      " -3.95614450e-04 -2.22398108e-03 -1.00545911e-03 -8.91898701e-04\n",
      "  5.23301831e-04 -1.25129125e-03 -3.09557217e-05  1.34247623e-03\n",
      " -1.92352501e-03  2.91019300e-04  1.28291396e-03  1.59886281e-03\n",
      " -1.15333503e-04 -2.20665243e-03  7.30930420e-04 -3.67990159e-03\n",
      "  1.75600871e-05  2.17235205e-03 -1.32606074e-03  2.02091993e-03\n",
      "  2.12951051e-03  1.74516335e-03  2.77338899e-03 -7.24400976e-04\n",
      "  6.15922982e-05  4.83805983e-04 -1.23006117e-03  6.96914038e-04\n",
      "  2.32341606e-03  4.17441392e-04  1.57020683e-03 -1.59526314e-03\n",
      "  8.07090662e-04  1.40538521e-03  1.47954648e-04  1.93670814e-04\n",
      "  1.77897885e-03 -2.55647022e-03 -1.15552475e-05 -1.52387202e-03\n",
      "  7.88749778e-04 -6.38612119e-06  1.23069389e-03 -1.36772369e-03\n",
      " -8.76593753e-04  2.99445557e-04  2.13189051e-04 -4.23105666e-03\n",
      " -1.03462895e-03  1.17426440e-04 -9.33648262e-04  6.08772913e-04\n",
      " -9.23746265e-04 -2.21202127e-03 -3.88279557e-04 -5.66052040e-04\n",
      "  1.13190454e-03  1.70528970e-03 -3.84241430e-05  1.12843688e-03\n",
      "  6.71588874e-04 -5.51195117e-04  1.33170467e-03 -1.66719663e-03]\n",
      "computers: 0.7423178553581238\n",
      "learning: 0.28744351863861084\n",
      "seen: 0.27201271057128906\n",
      "language: 0.2179853767156601\n",
      "nice: 0.18215863406658173\n"
     ]
    }
   ],
   "source": [
    "# Get word vectors\n",
    "print(model_ft.wv['cats'])  # Example: Vector for 'cat'\n",
    "\n",
    "# Find similar words\n",
    "similar_words = model_ft.wv.most_similar('computer', topn=5)\n",
    "#print(similar_words)\n",
    "for word, similarity in similar_words:\n",
    "    print(f\"{word}: {similarity}\")"
   ]
  },
  {
   "cell_type": "code",
   "execution_count": 16,
   "id": "917fa3dd-ced5-4ed3-9467-3e029b5bfec8",
   "metadata": {},
   "outputs": [
    {
     "name": "stdout",
     "output_type": "stream",
     "text": [
      "[ 1.2467726e-03  1.4294123e-03 -5.3756579e-04 -1.6706369e-03\n",
      "  2.6824910e-04 -1.3063306e-03 -4.4282558e-04 -2.5285671e-03\n",
      "  2.6834519e-03  1.5831494e-03 -5.9941708e-04  1.2274151e-04\n",
      " -8.8621564e-05 -3.4938713e-03 -1.0953621e-03  1.6996145e-03\n",
      " -1.0023414e-03  1.7837378e-03 -1.5263911e-03 -1.5787021e-03\n",
      "  6.9531606e-04 -6.5853738e-04  6.5536186e-04 -1.3626592e-03\n",
      " -5.0497160e-04  6.0532318e-04 -3.0028724e-04 -1.9711591e-03\n",
      "  5.6647381e-04 -6.7858701e-04  1.2829925e-03 -2.0296269e-03\n",
      " -3.7227219e-03 -3.0457885e-03 -4.7996014e-04 -1.1163530e-03\n",
      "  1.8976571e-03  1.5967693e-04  3.2887158e-03  2.2398203e-03\n",
      "  6.6891115e-04 -2.7861774e-03 -4.0591569e-04 -1.4465790e-03\n",
      "  9.1799261e-04 -1.3588240e-03  2.1983203e-03 -1.1000640e-04\n",
      "  2.8750710e-03  5.6421885e-04 -8.8894158e-04  7.3919469e-04\n",
      " -2.6106045e-03  8.1918691e-04  1.2076354e-03  2.0838410e-03\n",
      " -2.5062734e-04 -1.4046145e-03 -2.2669781e-03  2.3914550e-03\n",
      "  1.0263665e-03 -1.7516873e-03 -1.0460396e-03  1.0417083e-03\n",
      "  2.5432170e-03  1.2884552e-04  2.1472361e-03 -1.6474259e-03\n",
      " -3.0378713e-03  7.9023087e-04 -1.5383505e-03 -2.3279001e-03\n",
      " -1.6326800e-05  1.1058251e-03 -5.7491951e-04 -2.3774700e-03\n",
      "  1.2811350e-03 -2.2520807e-04  3.2707871e-04  2.0548603e-03\n",
      " -1.4347191e-03  2.0097743e-03 -2.0074008e-03 -2.6921502e-03\n",
      " -1.3769151e-03  1.8268263e-03 -5.0463475e-04 -1.8511688e-04\n",
      "  1.0514873e-03  1.5129445e-03 -3.0179359e-03 -6.7036378e-04\n",
      " -1.0881437e-03 -6.0016691e-04 -1.6798603e-03  2.0210268e-03\n",
      " -1.6016212e-03 -1.4796647e-03 -2.1393581e-03  5.5310002e-04]\n"
     ]
    }
   ],
   "source": [
    "print(model_ft.wv['brown']) "
   ]
  },
  {
   "cell_type": "code",
   "execution_count": 13,
   "id": "c1c7c403-289c-4eed-8266-9881b3c74ad3",
   "metadata": {},
   "outputs": [
    {
     "name": "stdout",
     "output_type": "stream",
     "text": [
      "Words most similar to 'sentence':\n",
      "[('the', 0.3163280189037323), ('walk', 0.3010618984699249), ('today', 0.2275698035955429), ('dog', 0.20017848908901215), ('intelligence', 0.17871858179569244)]\n",
      "\n",
      "Words most similar to OOV word 'anothersentenceexample':\n",
      "[('computer', 0.4790094196796417), ('computers', 0.4531535804271698), ('learning', 0.4286929666996002), ('learn', 0.33162397146224976), ('today', 0.2413749247789383)]\n",
      "\n"
     ]
    }
   ],
   "source": [
    "sentence1 = 'cat in the wall'\n",
    "sentence2= 'the weather is cloudy today'\n",
    "# Find the most similar words to 'sentence'\n",
    "similar_words = model_ft.wv.most_similar(sentence2, topn=5)\n",
    "print(f\"Words most similar to 'sentence':\\n{similar_words}\\n\")\n",
    "\n",
    "# Find most similar words, even for OOV words\n",
    "similar_oov = model_ft.wv.most_similar('learning computer for one year', topn=5)\n",
    "print(f\"Words most similar to OOV word 'anothersentenceexample':\\n{similar_oov}\\n\")"
   ]
  },
  {
   "cell_type": "code",
   "execution_count": 16,
   "id": "592c5e64-7b5b-4cce-8041-1713452039a7",
   "metadata": {},
   "outputs": [
    {
     "name": "stdout",
     "output_type": "stream",
     "text": [
      "Similarity between 'sentence' and 'word2vec': 0.02959563583135605\n",
      "\n",
      "Similarity between 'sentence' and OOV word 'totallynewword': 0.1776554435491562\n",
      "\n"
     ]
    }
   ],
   "source": [
    "sentence1 = 'cat in the wall'\n",
    "# Calculate the similarity between two words\n",
    "similarity = model_ft.wv.similarity(sentence1, 'rat')\n",
    "print(f\"Similarity between 'sentence' and 'word2vec': {similarity}\\n\")\n",
    "sentence2= 'the weather is cloudy today'\n",
    "similarity_oov = model_ft.wv.similarity(sentence2, 'weather')\n",
    "print(f\"Similarity between 'sentence' and OOV word 'totallynewword': {similarity_oov}\\n\")\n"
   ]
  },
  {
   "cell_type": "code",
   "execution_count": 76,
   "id": "a1dd61eb-b481-4564-aded-5ee548007b91",
   "metadata": {},
   "outputs": [],
   "source": [
    "sim_score = model_ft.wv.similarity('man', 'human')"
   ]
  },
  {
   "cell_type": "code",
   "execution_count": 67,
   "id": "ae6959bc-a5d6-4286-a6c5-183f4a81af30",
   "metadata": {},
   "outputs": [
    {
     "name": "stdout",
     "output_type": "stream",
     "text": [
      "-0.103488185\n"
     ]
    }
   ],
   "source": [
    "print(sim_score)"
   ]
  },
  {
   "cell_type": "markdown",
   "id": "15f0ebd3-d0dc-491f-a54d-8b07f8baa1b3",
   "metadata": {},
   "source": [
    "### Code from internet using chatgpt"
   ]
  },
  {
   "cell_type": "code",
   "execution_count": 20,
   "id": "175a67b2-35f2-428e-aa30-2a4e4b62b6ba",
   "metadata": {},
   "outputs": [
    {
     "name": "stdout",
     "output_type": "stream",
     "text": [
      "Sample corpus:\n",
      "[['human', 'interface', 'computer'],\n",
      " ['survey', 'user', 'computer', 'system', 'response', 'time'],\n",
      " ['eps', 'user', 'interface', 'system'],\n",
      " ['system', 'human', 'system', 'eps'],\n",
      " ['user', 'response', 'time'],\n",
      " ['trees'],\n",
      " ['graph', 'trees'],\n",
      " ['graph', 'minors', 'trees'],\n",
      " ['graph', 'minors', 'survey']]\n",
      "\n",
      "Vector for 'computer':\n",
      " [ 2.96936167e-04  3.31060466e-04 -8.77768325e-04  3.39444174e-04\n",
      " -5.01747418e-04 -2.04214524e-03 -1.24066719e-03 -1.94044539e-03\n",
      "  1.34510931e-03 -2.41268426e-03  9.18505422e-04 -1.03151030e-03\n",
      " -7.63410062e-04  7.31222244e-05  1.38286629e-03  5.19435504e-04\n",
      " -2.98849802e-04 -1.19464763e-03 -1.17238448e-03 -6.08951552e-04\n",
      " -6.78338984e-04  3.92779708e-04  9.88251195e-05  8.12689308e-04\n",
      "  5.81971311e-04  7.01953366e-04 -7.36806658e-04 -1.03962549e-03\n",
      " -6.25258312e-04 -2.40496884e-04 -1.19316357e-03 -2.65940849e-04\n",
      "  7.36046524e-04 -7.21505727e-04 -1.27508014e-03  1.24231781e-04\n",
      "  3.77583550e-04 -1.33155228e-03 -2.73441360e-03 -3.04829708e-04\n",
      "  9.28272377e-04 -7.28168816e-04 -1.12919568e-03 -3.21931177e-04\n",
      " -2.06016310e-04 -1.04854174e-04 -6.22976047e-04 -1.61377620e-03\n",
      "  9.91107081e-04  9.22983818e-05  3.68000241e-04 -5.37839776e-04\n",
      "  1.13322982e-03  8.70750577e-04 -1.63867278e-03 -8.55855411e-04\n",
      " -6.31069415e-04  6.22909865e-04  8.40167049e-04 -1.12830219e-03\n",
      "  1.29163847e-03 -3.40488943e-04 -1.17833621e-03 -1.60850491e-03\n",
      "  1.52693118e-03  3.01169712e-05 -2.41883954e-05 -7.27596227e-04\n",
      "  1.73330551e-03  8.93421762e-04  3.26789886e-04 -4.63379052e-04\n",
      " -2.31358409e-03 -1.72005536e-03  4.35937254e-04 -4.12225461e-04\n",
      " -1.06689101e-03 -1.00902386e-03 -1.64344837e-03 -1.05065810e-04\n",
      "  1.01913651e-03 -6.24372798e-04 -1.08174444e-03  8.85603193e-04\n",
      " -1.45729631e-03  6.48391724e-04  4.41413518e-04 -1.24500669e-03\n",
      "  3.49245267e-04 -9.81050660e-04 -9.73784481e-04 -1.98150854e-04\n",
      " -1.89508792e-04 -9.85311344e-04  5.74433478e-04  1.99000956e-03\n",
      "  7.19957534e-05  9.95708513e-04 -1.70885876e-03  1.34901761e-03]\n",
      "\n",
      "Words similar to 'computer':\n",
      "[('user', 0.15659411251544952),\n",
      " ('response', 0.12383825331926346),\n",
      " ('eps', 0.030704928562045097),\n",
      " ('system', 0.025573885068297386),\n",
      " ('interface', 0.005858757067471743),\n",
      " ('survey', -0.03156975656747818),\n",
      " ('minors', -0.054556481540203094),\n",
      " ('human', -0.0668589174747467),\n",
      " ('time', -0.06855935603380203),\n",
      " ('trees', -0.10636083036661148)]\n",
      "\n",
      "Vector for misspelled 'compuuter':\n",
      " [ 5.37822256e-04  8.13040300e-04  2.86898983e-04  3.45453183e-04\n",
      " -3.63900501e-04 -8.91792006e-04 -1.07653148e-03 -2.65255850e-03\n",
      "  1.23973237e-03 -1.08289874e-04 -2.04619173e-05  2.71872792e-04\n",
      " -2.53348146e-03  7.76573201e-04  1.85995072e-04 -5.25655982e-04\n",
      "  1.37992043e-04 -7.77879613e-04 -2.20079767e-03 -1.84260149e-04\n",
      " -8.84888927e-04  1.64963049e-03 -1.51548896e-03  5.80495223e-04\n",
      "  1.09000551e-03  1.43722841e-03 -1.90578937e-03 -1.08204995e-05\n",
      "  1.39688689e-03  4.18723939e-04 -5.09811915e-04  3.11804877e-04\n",
      "  1.97143061e-03 -1.47492683e-03  3.38606245e-04  1.16263342e-03\n",
      "  1.47270760e-03 -2.10537040e-03 -1.75831176e-03 -5.03999298e-04\n",
      "  1.76466804e-03 -5.19507390e-04  6.85872510e-04 -6.02523971e-04\n",
      " -9.15401499e-04  3.57487297e-04 -7.29428371e-04 -7.87281024e-04\n",
      "  2.02886132e-03  7.51795247e-04 -6.72323658e-05 -2.23634779e-04\n",
      "  8.76179023e-04 -1.69347040e-04 -1.35133113e-03 -4.21586767e-04\n",
      " -8.60555796e-04  8.67682174e-05  4.87919751e-04 -3.50769697e-04\n",
      " -2.90343378e-05  3.78279947e-06 -1.79809600e-03 -4.29539912e-04\n",
      "  7.47438404e-04 -8.46476876e-04  6.62479666e-04 -3.10997275e-04\n",
      "  1.32820650e-03  3.53045383e-04  9.22459993e-04 -1.75035582e-03\n",
      " -2.05549225e-03 -2.05196161e-03 -4.94325242e-04 -1.68996560e-03\n",
      " -1.81310592e-04  1.12795166e-03 -3.06170114e-04  4.14203969e-04\n",
      " -9.85328807e-04 -1.28988875e-03 -1.31777677e-04  1.69355806e-03\n",
      " -1.16845162e-03  1.16397394e-03 -4.07498825e-04 -1.70077092e-03\n",
      "  1.18601054e-03 -5.72660065e-04 -5.10007318e-04 -1.17064337e-03\n",
      " -1.07545615e-03 -2.10420322e-03 -2.11223465e-04  2.40667001e-03\n",
      " -6.50291971e-04 -1.95746412e-04 -6.48648303e-04  1.95697858e-03]\n"
     ]
    }
   ],
   "source": [
    "from gensim.models import FastText\n",
    "from gensim.test.utils import common_texts  # Example corpus\n",
    "from pprint import pprint\n",
    "\n",
    "# Example corpus (you can use your own preprocessed text data)\n",
    "print(\"Sample corpus:\")\n",
    "pprint(common_texts)\n",
    "\n",
    "# Train FastText model\n",
    "model = FastText(sentences=common_texts, vector_size=100, window=5, min_count=1, workers=4, sg=1)\n",
    "\n",
    "# Save and load the model\n",
    "model.save(\"fasttext.model\")\n",
    "model = FastText.load(\"fasttext.model\")\n",
    "\n",
    "# Example: Get vector for a word\n",
    "word_vector = model.wv['computer']\n",
    "print(\"\\nVector for 'computer':\\n\", word_vector)\n",
    "\n",
    "# Find similar words\n",
    "similar_words = model.wv.most_similar('computer')\n",
    "print(\"\\nWords similar to 'computer':\")\n",
    "pprint(similar_words)\n",
    "\n",
    "# Handle out-of-vocabulary (OOV) word\n",
    "oov_vector = model.wv['compuuter']  # misspelled\n",
    "print(\"\\nVector for misspelled 'compuuter':\\n\", oov_vector)"
   ]
  },
  {
   "cell_type": "code",
   "execution_count": null,
   "id": "f5a192dc-8a70-4073-bb02-1c5199bb30d2",
   "metadata": {},
   "outputs": [],
   "source": []
  }
 ],
 "metadata": {
  "kernelspec": {
   "display_name": "nlpvenv",
   "language": "python",
   "name": "nlpvenv"
  },
  "language_info": {
   "codemirror_mode": {
    "name": "ipython",
    "version": 3
   },
   "file_extension": ".py",
   "mimetype": "text/x-python",
   "name": "python",
   "nbconvert_exporter": "python",
   "pygments_lexer": "ipython3",
   "version": "3.11.7"
  }
 },
 "nbformat": 4,
 "nbformat_minor": 5
}
