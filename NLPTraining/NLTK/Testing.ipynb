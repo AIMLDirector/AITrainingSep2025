{
 "cells": [
  {
   "cell_type": "code",
   "execution_count": 3,
   "id": "bcd0a2d6-01dd-41a6-814d-d6c21e550074",
   "metadata": {},
   "outputs": [],
   "source": [
    "new_text = \"It is very important to be pythonly while you're pythoning with python. All pythoners should be pythonic. All pythoners have pythoned poorly atleast once.\""
   ]
  },
  {
   "cell_type": "code",
   "execution_count": 18,
   "id": "76b14f57-b591-427e-af6e-cbe84764c350",
   "metadata": {},
   "outputs": [],
   "source": [
    "from nltk.stem import PorterStemmer\n",
    "from nltk.tokenize import wordpunct_tokenize\n",
    "from nltk.corpus import stopwords\n",
    "stop_words = set(stopwords.words(\"english\"))"
   ]
  },
  {
   "cell_type": "code",
   "execution_count": 19,
   "id": "f2262e3a-2c5e-40b2-860d-262e0e28fb5a",
   "metadata": {},
   "outputs": [
    {
     "name": "stdout",
     "output_type": "stream",
     "text": [
      "['It', 'important', 'pythonly', \"'\", 'pythoning', 'python', '.', 'All', 'pythoners', 'pythonic', '.', 'All', 'pythoners', 'pythoned', 'poorly', 'atleast', '.']\n"
     ]
    }
   ],
   "source": [
    "words_filtered = []\n",
    "words = wordpunct_tokenize(new_text)\n",
    "for w in words:\n",
    "    if w not in stop_words:\n",
    "        words_filtered.append(w)\n",
    "\n",
    "print(words_filtered)"
   ]
  },
  {
   "cell_type": "code",
   "execution_count": 12,
   "id": "7ee0b85f-d562-44e1-926c-57a8f6542792",
   "metadata": {},
   "outputs": [
    {
     "data": {
      "text/plain": [
       "'.'"
      ]
     },
     "execution_count": 12,
     "metadata": {},
     "output_type": "execute_result"
    }
   ],
   "source": []
  },
  {
   "cell_type": "code",
   "execution_count": 7,
   "id": "b963878d-3656-4612-8961-c0f76308a389",
   "metadata": {},
   "outputs": [
    {
     "name": "stdout",
     "output_type": "stream",
     "text": [
      "{'your', 'we', \"you'd\", 'wouldn', \"mustn't\", 'between', 'when', 'his', 'further', 'below', 'shouldn', 'what', 'didn', \"don't\", 'isn', 'own', \"doesn't\", 'very', 'just', 'having', \"she'll\", \"they'd\", 'did', 'am', 'if', 'themselves', 'this', 'had', 'about', 'again', 'so', \"we'd\", 'how', \"i'd\", 'other', 're', 've', 'to', 'was', 'have', \"wouldn't\", \"they're\", \"shan't\", 'should', 't', 'into', 'too', 'which', 'mightn', \"haven't\", 'its', 'in', 'himself', \"won't\", 'against', 'weren', 'through', 'no', 'here', \"he's\", 'where', 'the', 'y', \"they've\", \"couldn't\", 'i', 'a', 'hers', 'hasn', \"you've\", 'he', 'be', 'will', 'why', 'our', 'these', \"weren't\", 'during', 'there', 'until', 'does', 'it', 'than', 'is', 'such', 'by', 'couldn', 'don', 'not', 'while', 'under', 'ain', \"they'll\", \"it'll\", 'nor', \"it's\", \"i'll\", 'more', 'up', 'theirs', 'yourself', 'd', 'are', 'doesn', 'hadn', \"he'd\", 'with', \"didn't\", 'do', \"we're\", 'you', 'few', 'their', \"hasn't\", 'shan', 'needn', 'who', 'an', 'ours', 'haven', 'now', 'of', \"hadn't\", 'or', \"that'll\", 'as', 'mustn', 'from', 'ma', \"she's\", 'only', 'her', 'those', 'been', 'for', 'has', \"i'm\", \"she'd\", 'o', 'can', 'most', 's', 'myself', 'doing', 'both', 'itself', 'once', \"shouldn't\", 'down', 'at', 'before', \"i've\", \"it'd\", 'over', 'after', 'being', 'off', 'she', 'all', \"you'll\", 'wasn', \"should've\", 'won', 'yourselves', 'above', 'any', 'ourselves', 'same', \"isn't\", 'because', 'them', \"aren't\", 'were', 'm', 'and', 'some', \"we'll\", 'aren', 'then', 'll', 'but', \"wasn't\", \"he'll\", \"mightn't\", 'whom', 'that', \"we've\", 'my', 'each', 'on', 'out', \"needn't\", \"you're\", 'they', 'herself', 'him', 'yours', 'me'}\n"
     ]
    }
   ],
   "source": [
    "print(stop_words)"
   ]
  },
  {
   "cell_type": "code",
   "execution_count": 21,
   "id": "88afd378-0b4f-4422-9b04-5a3f0edc26df",
   "metadata": {},
   "outputs": [
    {
     "name": "stdout",
     "output_type": "stream",
     "text": [
      "This is a workpunct example  Do nt forget to remove special characters \n"
     ]
    }
   ],
   "source": [
    "import re\n",
    "import nltk\n",
    "\n",
    "def tokenize_and_remove_special(text):\n",
    "    # Tokenize using NLTK's word tokenizer\n",
    "    tokens = nltk.word_tokenize(text)\n",
    "    stop_words = set(stopwords.words(\"english\"))\n",
    "    \n",
    "    # Remove special characters from each token\n",
    "    cleaned_tokens = [re.sub(r'[^a-zA-Z0-9\\s]', '', token) for token in tokens]\n",
    "    \n",
    "    # If you want to remove leading/trailing whitespaces and combine them into a string\n",
    "    cleaned_text = ' '.join(cleaned_tokens)\n",
    "    \n",
    "    return cleaned_text\n",
    "\n",
    "# Example text\n",
    "text = \"This is a workpunct example! Don't forget to remove special characters.\"\n",
    "\n",
    "print(tokenize_and_remove_special(text))"
   ]
  },
  {
   "cell_type": "code",
   "execution_count": null,
   "id": "77c81f75-1f18-4dd3-8805-33bee9663e7e",
   "metadata": {},
   "outputs": [],
   "source": []
  }
 ],
 "metadata": {
  "kernelspec": {
   "display_name": "nlpvenv",
   "language": "python",
   "name": "nlpvenv"
  },
  "language_info": {
   "codemirror_mode": {
    "name": "ipython",
    "version": 3
   },
   "file_extension": ".py",
   "mimetype": "text/x-python",
   "name": "python",
   "nbconvert_exporter": "python",
   "pygments_lexer": "ipython3",
   "version": "3.11.7"
  }
 },
 "nbformat": 4,
 "nbformat_minor": 5
}
