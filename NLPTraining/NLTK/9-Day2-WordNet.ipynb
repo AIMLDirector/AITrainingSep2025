{
 "cells": [
  {
   "cell_type": "code",
   "execution_count": null,
   "metadata": {},
   "outputs": [],
   "source": [
    "'''\r\n",
    "What is WordNet ?\r\n",
    "WordNet is a lexical database for the English language, which was created by Princeton, and is part of the NLTK corpus.\r\n",
    "\r\n",
    "You can use WordNet alongside the NLTK module to find the meanings of words, synonyms, antonyms, and more. Let's cover some examples.\r\n",
    "'''"
   ]
  },
  {
   "cell_type": "code",
   "execution_count": 1,
   "metadata": {},
   "outputs": [],
   "source": [
    "from nltk.corpus import wordnet"
   ]
  },
  {
   "cell_type": "code",
   "execution_count": 2,
   "metadata": {},
   "outputs": [],
   "source": [
    "syns = wordnet.synsets(\"program\")"
   ]
  },
  {
   "cell_type": "code",
   "execution_count": 3,
   "metadata": {},
   "outputs": [
    {
     "name": "stdout",
     "output_type": "stream",
     "text": [
      "[Synset('plan.n.01'), Synset('program.n.02'), Synset('broadcast.n.02'), Synset('platform.n.02'), Synset('program.n.05'), Synset('course_of_study.n.01'), Synset('program.n.07'), Synset('program.n.08'), Synset('program.v.01'), Synset('program.v.02')]\n"
     ]
    }
   ],
   "source": [
    "print(syns)"
   ]
  },
  {
   "cell_type": "code",
   "execution_count": 4,
   "metadata": {},
   "outputs": [
    {
     "name": "stdout",
     "output_type": "stream",
     "text": [
      "plan :  a series of steps to be carried out or goals to be accomplished\n",
      "Example :  ['they drew up a six-step plan', 'they discussed plans for a new bond issue']\n",
      "------------------------------------------------------------------\n",
      "program :  a system of projects or services intended to meet a public need\n",
      "Example :  ['he proposed an elaborate program of public works', 'working mothers rely on the day care program']\n",
      "------------------------------------------------------------------\n",
      "broadcast :  a radio or television show\n",
      "Example :  ['did you see his program last night?']\n",
      "------------------------------------------------------------------\n",
      "platform :  a document stating the aims and principles of a political party\n",
      "Example :  ['their candidate simply ignored the party platform', 'they won the election even though they offered no positive program']\n",
      "------------------------------------------------------------------\n",
      "program :  an announcement of the events that will occur as part of a theatrical or sporting event\n",
      "Example :  [\"you can't tell the players without a program\"]\n",
      "------------------------------------------------------------------\n",
      "course_of_study :  an integrated course of academic studies\n",
      "Example :  ['he was admitted to a new program at the university']\n",
      "------------------------------------------------------------------\n",
      "program :  (computer science) a sequence of instructions that a computer can interpret and execute\n",
      "Example :  ['the program required several hundred lines of code']\n",
      "------------------------------------------------------------------\n",
      "program :  a performance (or series of performances) at a public presentation\n",
      "Example :  ['the program lasted more than two hours']\n",
      "------------------------------------------------------------------\n",
      "program :  arrange a program of or for\n",
      "Example :  ['program the 80th birthday party']\n",
      "------------------------------------------------------------------\n",
      "program :  write a computer program\n",
      "Example :  []\n",
      "------------------------------------------------------------------\n"
     ]
    }
   ],
   "source": [
    "for w in syns:\r\n",
    "    print(w.lemmas()[0].name(),\": \", w.definition())\r\n",
    "    print(\"Example : \", w.examples())\r\n",
    "    print(\"------------------------------------------------------------------\")"
   ]
  },
  {
   "cell_type": "code",
   "execution_count": 5,
   "metadata": {},
   "outputs": [
    {
     "name": "stdout",
     "output_type": "stream",
     "text": [
      "{'expert', 'safe', 'salutary', 'honorable', 'skillful', 'thoroughly', 'trade_good', 'undecomposed', 'dear', 'skilful', 'good', 'secure', 'well', 'honest', 'soundly', 'estimable', 'proficient', 'ripe', 'upright', 'practiced', 'goodness', 'unspoiled', 'dependable', 'effective', 'commodity', 'in_force', 'full', 'unspoilt', 'adept', 'just', 'sound', 'right', 'respectable', 'serious', 'beneficial', 'near', 'in_effect'}\n",
      "{'evil', 'bad', 'ill', 'badness', 'evilness'}\n"
     ]
    }
   ],
   "source": [
    "synonyms = []\r\n",
    "antonyms = []\r\n",
    "\r\n",
    "for syn in wordnet.synsets(\"good\"):\r\n",
    "    for l in syn.lemmas():\r\n",
    "        synonyms.append(l.name())\r\n",
    "        if l.antonyms():\r\n",
    "            antonyms.append(l.antonyms()[0].name())\r\n",
    "            \r\n",
    "print(set(synonyms))\r\n",
    "print(set(antonyms))"
   ]
  },
  {
   "cell_type": "code",
   "execution_count": 6,
   "metadata": {},
   "outputs": [
    {
     "name": "stdout",
     "output_type": "stream",
     "text": [
      "0.9090909090909091\n",
      "0.6956521739130435\n",
      "0.32\n",
      "0.38095238095238093\n"
     ]
    }
   ],
   "source": [
    "w1 = wordnet.synset(\"ship.n.01\")\r\n",
    "w2 = wordnet.synset(\"boat.n.01\")\r\n",
    "w3 = wordnet.synset(\"car.n.01\")\r\n",
    "w4 = wordnet.synset(\"cat.n.01\")\r\n",
    "w5 = wordnet.synset(\"cactus.n.01\")\r\n",
    "\r\n",
    "print(w1.wup_similarity(w2))\r\n",
    "print(w1.wup_similarity(w3))\r\n",
    "print(w1.wup_similarity(w4))\r\n",
    "print(w1.wup_similarity(w5))"
   ]
  },
  {
   "cell_type": "code",
   "execution_count": null,
   "metadata": {},
   "outputs": [],
   "source": [
    "#Additinal"
   ]
  },
  {
   "cell_type": "code",
   "execution_count": null,
   "metadata": {},
   "outputs": [],
   "source": [
    "'''Synsets and Lemmas\r\n",
    "In WordNet, similar words are grouped into a set known as a Synset (short for Synonym-set).\r\n",
    "Every Synset has a name, a part-of-speech, and a number. The words in a Synset are known as Lemmas.\r\n",
    "\r\n",
    "Getting Synsets\r\n",
    "The function wordnet.synsets('word') returns an array containing all the Synsets related to the word passed to it as the argument.\r\n",
    "'''"
   ]
  },
  {
   "cell_type": "code",
   "execution_count": 8,
   "metadata": {},
   "outputs": [
    {
     "name": "stdout",
     "output_type": "stream",
     "text": [
      "[Synset('room.n.01'), Synset('room.n.02'), Synset('room.n.03'), Synset('room.n.04'), Synset('board.v.02')]\n"
     ]
    }
   ],
   "source": [
    "print(wordnet.synsets('room'))"
   ]
  },
  {
   "cell_type": "code",
   "execution_count": null,
   "metadata": {},
   "outputs": [],
   "source": [
    "#The method returned five Synsets; four have the name ’room’ and are a nouns, while the last one’s name is ’board’ and is a verb.\r\n",
    "# The output also suggests that the word ‘room’ has a total of five meanings or contexts."
   ]
  },
  {
   "cell_type": "code",
   "execution_count": null,
   "metadata": {},
   "outputs": [],
   "source": [
    "'''Hyponyms\r\n",
    "A Hyponym is a specialisation of a Synset. It can be thought of as a child (or derived) class in inheritance. \r\n",
    "The function hyponyms() returns an array containing all the Synsets which are Hyponyms of the given Synset:\r\n",
    "'''"
   ]
  },
  {
   "cell_type": "code",
   "execution_count": 9,
   "metadata": {},
   "outputs": [
    {
     "name": "stdout",
     "output_type": "stream",
     "text": [
      "[Synset('lunar_calendar.n.01'), Synset('lunisolar_calendar.n.01'), Synset('solar_calendar.n.01')]\n"
     ]
    }
   ],
   "source": [
    "print(wordnet.synset('calendar.n.01').hyponyms())"
   ]
  },
  {
   "cell_type": "code",
   "execution_count": null,
   "metadata": {},
   "outputs": [],
   "source": [
    "'''\r\n",
    "Hypernyms\r\n",
    "A Hypernym is a generalisation of a Synset (i.e. the opposite of a Hyponym).\r\n",
    "An array containing all Hypernyms of a Synset is returned by hypernyms():\r\n",
    "'''"
   ]
  },
  {
   "cell_type": "code",
   "execution_count": 11,
   "metadata": {},
   "outputs": [
    {
     "name": "stdout",
     "output_type": "stream",
     "text": [
      "[Synset('calendar.n.01')]\n"
     ]
    }
   ],
   "source": [
    "print(wordnet.synset('solar_calendar.n.01').hypernyms())\r\n"
   ]
  },
  {
   "cell_type": "code",
   "execution_count": null,
   "metadata": {},
   "outputs": [],
   "source": []
  }
 ],
 "metadata": {
  "interpreter": {
   "hash": "135e78ef6267b613ce7b86630936d470174b66187aad9f784a45e5cc3235687c"
  },
  "kernelspec": {
   "display_name": "Python 3 (ipykernel)",
   "language": "python",
   "name": "python3"
  },
  "language_info": {
   "codemirror_mode": {
    "name": "ipython",
    "version": 3
   },
   "file_extension": ".py",
   "mimetype": "text/x-python",
   "name": "python",
   "nbconvert_exporter": "python",
   "pygments_lexer": "ipython3",
   "version": "3.11.7"
  }
 },
 "nbformat": 4,
 "nbformat_minor": 4
}
